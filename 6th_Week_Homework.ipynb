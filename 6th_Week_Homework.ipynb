{
 "cells": [
  {
   "cell_type": "code",
   "execution_count": 7,
   "id": "84980aa5",
   "metadata": {},
   "outputs": [
    {
     "name": "stdout",
     "output_type": "stream",
     "text": [
      "INFO:tensorflow:Assets written to: C:\\Users\\Detoxx\\AppData\\Local\\Temp\\tmp1py79bfr\\assets\n"
     ]
    },
    {
     "name": "stderr",
     "output_type": "stream",
     "text": [
      "INFO:tensorflow:Assets written to: C:\\Users\\Detoxx\\AppData\\Local\\Temp\\tmp1py79bfr\\assets\n"
     ]
    },
    {
     "name": "stdout",
     "output_type": "stream",
     "text": [
      "TFLite Model File Size in Bytes: 44866200\n"
     ]
    }
   ],
   "source": [
    "import tensorflow as tf\n",
    "import os\n",
    "\n",
    "# Load the Keras model\n",
    "model = tf.keras.models.load_model('S:/ML Course/Homework Week 9/bees-wasps.h5')\n",
    "\n",
    "# Convert to TensorFlow Lite model\n",
    "converter = tf.lite.TFLiteConverter.from_keras_model(model)\n",
    "tflite_model = converter.convert()\n",
    "\n",
    "# Custom file path for saving the TFLite model\n",
    "custom_path = 'S:/Model/bees-wasps.tflite' \n",
    "\n",
    "# Save the TFLite model to the custom path\n",
    "with open(custom_path, 'wb') as f:\n",
    "    f.write(tflite_model)\n",
    "\n",
    "# Get the file size\n",
    "file_size = os.path.getsize(custom_path)\n",
    "print(\"TFLite Model File Size in Bytes:\", file_size)\n"
   ]
  },
  {
   "cell_type": "code",
   "execution_count": 8,
   "id": "356cbcab",
   "metadata": {},
   "outputs": [
    {
     "name": "stdout",
     "output_type": "stream",
     "text": [
      "Output Index: 13\n"
     ]
    }
   ],
   "source": [
    "# Load the TFLite model\n",
    "interpreter = tf.lite.Interpreter(model_path='bees-wasps.tflite')\n",
    "interpreter.allocate_tensors()\n",
    "\n",
    "# Get output details\n",
    "output_details = interpreter.get_output_details()\n",
    "print(\"Output Index:\", output_details[0]['index'])\n"
   ]
  },
  {
   "cell_type": "code",
   "execution_count": 3,
   "id": "4f2fe6d6",
   "metadata": {},
   "outputs": [
    {
     "name": "stdout",
     "output_type": "stream",
     "text": [
      "R channel value at the first pixel: 0.9450980392156862\n"
     ]
    }
   ],
   "source": [
    "from PIL import Image\n",
    "from io import BytesIO\n",
    "from urllib import request\n",
    "import numpy as np\n",
    "\n",
    "# Provided functions\n",
    "def download_image(url):\n",
    "    with request.urlopen(url) as resp:\n",
    "        buffer = resp.read()\n",
    "    stream = BytesIO(buffer)\n",
    "    img = Image.open(stream)\n",
    "    return img\n",
    "\n",
    "def prepare_image(img, target_size):\n",
    "    if img.mode != 'RGB':\n",
    "        img = img.convert('RGB')\n",
    "    img = img.resize(target_size, Image.NEAREST)\n",
    "    return img\n",
    "\n",
    "# Download and resize image\n",
    "url = \"https://habrastorage.org/webt/rt/d9/dh/rtd9dhsmhwrdezeldzoqgijdg8a.jpeg\"\n",
    "img = download_image(url)\n",
    "target_size = (150, 150)  # Replace with the target size used in your model\n",
    "img = prepare_image(img, target_size)\n",
    "\n",
    "# Convert to numpy array and preprocess\n",
    "img_array = np.array(img) / 255.0  # Assuming normalization was used in training\n",
    "print(\"R channel value at the first pixel:\", img_array[0, 0, 0])\n"
   ]
  },
  {
   "cell_type": "code",
   "execution_count": 9,
   "id": "f24b7199",
   "metadata": {},
   "outputs": [
    {
     "name": "stdout",
     "output_type": "stream",
     "text": [
      "Model Output: 0.65898407\n"
     ]
    }
   ],
   "source": [
    "# Convert the image to required shape and type\n",
    "input_data = np.expand_dims(img_array, axis=0).astype(np.float32)\n",
    "\n",
    "# Load the TFLite model and run inference\n",
    "interpreter = tf.lite.Interpreter(model_path='bees-wasps.tflite')\n",
    "interpreter.allocate_tensors()\n",
    "input_index = interpreter.get_input_details()[0]['index']\n",
    "interpreter.set_tensor(input_index, input_data)\n",
    "interpreter.invoke()\n",
    "\n",
    "# Get the output\n",
    "output_index = interpreter.get_output_details()[0]['index']\n",
    "output_data = interpreter.get_tensor(output_index)\n",
    "print(\"Model Output:\", output_data[0][0])\n"
   ]
  },
  {
   "cell_type": "code",
   "execution_count": 14,
   "id": "7ca0f713",
   "metadata": {
    "scrolled": false
   },
   "outputs": [
    {
     "name": "stdout",
     "output_type": "stream",
     "text": [
      "Model Output: 0.65898407\n"
     ]
    }
   ],
   "source": [
    "import numpy as np\n",
    "import tensorflow as tf\n",
    "from PIL import Image\n",
    "from io import BytesIO\n",
    "from urllib import request\n",
    "\n",
    "def download_image(url):\n",
    "    with request.urlopen(url) as resp:\n",
    "        buffer = resp.read()\n",
    "    stream = BytesIO(buffer)\n",
    "    img = Image.open(stream)\n",
    "    return img\n",
    "\n",
    "def prepare_image(img, target_size=(150, 150)):\n",
    "    if img.mode != 'RGB':\n",
    "        img = img.convert('RGB')\n",
    "    img = img.resize(target_size, Image.NEAREST)\n",
    "    img_array = np.array(img) / 255.0\n",
    "    return img_array\n",
    "\n",
    "def load_model(model_path):\n",
    "    interpreter = tf.lite.Interpreter(model_path=model_path)\n",
    "    interpreter.allocate_tensors()\n",
    "    return interpreter\n",
    "\n",
    "def predict(model, image_url):\n",
    "    img = download_image(image_url)\n",
    "    img_array = prepare_image(img)\n",
    "    input_data = np.expand_dims(img_array, axis=0).astype(np.float32)\n",
    "\n",
    "    input_index = model.get_input_details()[0]['index']\n",
    "    model.set_tensor(input_index, input_data)\n",
    "    model.invoke()\n",
    "\n",
    "    output_index = model.get_output_details()[0]['index']\n",
    "    output_data = model.get_tensor(output_index)\n",
    "    return output_data[0][0]\n",
    "\n",
    "# Load the model\n",
    "model = load_model('C:/Users/Detoxx/bees-wasps.tflite')\n",
    "\n",
    "# URL of the image to score\n",
    "image_url = 'https://habrastorage.org/webt/rt/d9/dh/rtd9dhsmhwrdezeldzoqgijdg8a.jpeg'\n",
    "\n",
    "# Run the prediction\n",
    "output = predict(model, image_url)\n",
    "print(\"Model Output:\", output)\n"
   ]
  },
  {
   "cell_type": "code",
   "execution_count": null,
   "id": "869d360b",
   "metadata": {},
   "outputs": [],
   "source": []
  }
 ],
 "metadata": {
  "kernelspec": {
   "display_name": "Python 3 (ipykernel)",
   "language": "python",
   "name": "python3"
  },
  "language_info": {
   "codemirror_mode": {
    "name": "ipython",
    "version": 3
   },
   "file_extension": ".py",
   "mimetype": "text/x-python",
   "name": "python",
   "nbconvert_exporter": "python",
   "pygments_lexer": "ipython3",
   "version": "3.11.4"
  }
 },
 "nbformat": 4,
 "nbformat_minor": 5
}
