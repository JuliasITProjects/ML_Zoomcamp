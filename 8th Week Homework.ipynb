{
 "cells": [
  {
   "cell_type": "code",
   "execution_count": 1,
   "id": "8225baad",
   "metadata": {},
   "outputs": [
    {
     "name": "stdout",
     "output_type": "stream",
     "text": [
      "WARNING:tensorflow:From S:\\Anaconda3\\Lib\\site-packages\\keras\\src\\losses.py:2976: The name tf.losses.sparse_softmax_cross_entropy is deprecated. Please use tf.compat.v1.losses.sparse_softmax_cross_entropy instead.\n",
      "\n",
      "WARNING:tensorflow:From S:\\Anaconda3\\Lib\\site-packages\\keras\\src\\backend.py:873: The name tf.get_default_graph is deprecated. Please use tf.compat.v1.get_default_graph instead.\n",
      "\n",
      "WARNING:tensorflow:From S:\\Anaconda3\\Lib\\site-packages\\keras\\src\\layers\\pooling\\max_pooling2d.py:161: The name tf.nn.max_pool is deprecated. Please use tf.nn.max_pool2d instead.\n",
      "\n",
      "Model: \"sequential\"\n",
      "_________________________________________________________________\n",
      " Layer (type)                Output Shape              Param #   \n",
      "=================================================================\n",
      " conv2d (Conv2D)             (None, 148, 148, 32)      896       \n",
      "                                                                 \n",
      " max_pooling2d (MaxPooling2  (None, 74, 74, 32)        0         \n",
      " D)                                                              \n",
      "                                                                 \n",
      " flatten (Flatten)           (None, 175232)            0         \n",
      "                                                                 \n",
      " dense (Dense)               (None, 64)                11214912  \n",
      "                                                                 \n",
      " dense_1 (Dense)             (None, 1)                 65        \n",
      "                                                                 \n",
      "=================================================================\n",
      "Total params: 11215873 (42.79 MB)\n",
      "Trainable params: 11215873 (42.79 MB)\n",
      "Non-trainable params: 0 (0.00 Byte)\n",
      "_________________________________________________________________\n"
     ]
    }
   ],
   "source": [
    "import numpy as np\n",
    "from tensorflow.keras.models import Sequential\n",
    "from tensorflow.keras.layers import Conv2D, MaxPooling2D, Flatten, Dense\n",
    "from tensorflow.keras.optimizers import SGD\n",
    "from tensorflow.keras.preprocessing.image import ImageDataGenerator\n",
    "\n",
    "# Building the CNN model\n",
    "model = Sequential([\n",
    "    Conv2D(32, (3, 3), activation='relu', input_shape=(150, 150, 3)),\n",
    "    MaxPooling2D(2, 2),\n",
    "    Flatten(),\n",
    "    Dense(64, activation='relu'),\n",
    "    Dense(1, activation='sigmoid')\n",
    "])\n",
    "\n",
    "# Compile the model\n",
    "model.compile(loss='binary_crossentropy',\n",
    "              optimizer=SGD(learning_rate=0.002, momentum=0.8),\n",
    "              metrics=['accuracy'])\n",
    "\n",
    "# Print the model summary\n",
    "model.summary()\n"
   ]
  },
  {
   "cell_type": "code",
   "execution_count": 3,
   "id": "288883fb",
   "metadata": {},
   "outputs": [
    {
     "name": "stdout",
     "output_type": "stream",
     "text": [
      "Found 3677 images belonging to 2 classes.\n",
      "Found 918 images belonging to 2 classes.\n"
     ]
    }
   ],
   "source": [
    "train_datagen = ImageDataGenerator(rescale=1./255)\n",
    "test_datagen = ImageDataGenerator(rescale=1./255)\n",
    "\n",
    "train_generator = train_datagen.flow_from_directory(\n",
    "    'D:/Machine Learning Zoomcamp/Week 8/train',  # Replace with your train directory path\n",
    "    target_size=(150, 150),\n",
    "    batch_size=20,\n",
    "    class_mode='binary')\n",
    "\n",
    "test_generator = test_datagen.flow_from_directory(\n",
    "    'D:/Machine Learning Zoomcamp/Week 8/test',  # Replace with your test directory path\n",
    "    target_size=(150, 150),\n",
    "    batch_size=20,\n",
    "    class_mode='binary')\n"
   ]
  },
  {
   "cell_type": "code",
   "execution_count": 4,
   "id": "ba794792",
   "metadata": {},
   "outputs": [
    {
     "name": "stdout",
     "output_type": "stream",
     "text": [
      "Epoch 1/10\n",
      "WARNING:tensorflow:From S:\\Anaconda3\\Lib\\site-packages\\keras\\src\\utils\\tf_utils.py:492: The name tf.ragged.RaggedTensorValue is deprecated. Please use tf.compat.v1.ragged.RaggedTensorValue instead.\n",
      "\n",
      "WARNING:tensorflow:From S:\\Anaconda3\\Lib\\site-packages\\keras\\src\\engine\\base_layer_utils.py:384: The name tf.executing_eagerly_outside_functions is deprecated. Please use tf.compat.v1.executing_eagerly_outside_functions instead.\n",
      "\n",
      "184/184 [==============================] - 32s 169ms/step - loss: 0.6744 - accuracy: 0.5706 - val_loss: 0.6179 - val_accuracy: 0.6438\n",
      "Epoch 2/10\n",
      "184/184 [==============================] - 30s 161ms/step - loss: 0.6168 - accuracy: 0.6535 - val_loss: 0.5996 - val_accuracy: 0.6710\n",
      "Epoch 3/10\n",
      "184/184 [==============================] - 29s 160ms/step - loss: 0.5661 - accuracy: 0.7131 - val_loss: 0.5328 - val_accuracy: 0.7375\n",
      "Epoch 4/10\n",
      "184/184 [==============================] - 30s 161ms/step - loss: 0.5333 - accuracy: 0.7433 - val_loss: 0.5329 - val_accuracy: 0.7603\n",
      "Epoch 5/10\n",
      "184/184 [==============================] - 30s 161ms/step - loss: 0.5104 - accuracy: 0.7623 - val_loss: 0.5438 - val_accuracy: 0.7266\n",
      "Epoch 6/10\n",
      "184/184 [==============================] - 30s 161ms/step - loss: 0.4774 - accuracy: 0.7860 - val_loss: 0.5158 - val_accuracy: 0.7505\n",
      "Epoch 7/10\n",
      "184/184 [==============================] - 30s 164ms/step - loss: 0.4552 - accuracy: 0.7987 - val_loss: 0.5435 - val_accuracy: 0.7200\n",
      "Epoch 8/10\n",
      "184/184 [==============================] - 30s 162ms/step - loss: 0.4357 - accuracy: 0.8077 - val_loss: 0.5318 - val_accuracy: 0.7440\n",
      "Epoch 9/10\n",
      "184/184 [==============================] - 30s 160ms/step - loss: 0.4245 - accuracy: 0.8153 - val_loss: 0.5158 - val_accuracy: 0.7364\n",
      "Epoch 10/10\n",
      "184/184 [==============================] - 29s 160ms/step - loss: 0.3958 - accuracy: 0.8336 - val_loss: 0.5046 - val_accuracy: 0.7712\n"
     ]
    }
   ],
   "source": [
    "history = model.fit(\n",
    "    train_generator,\n",
    "    epochs=10,\n",
    "    validation_data=test_generator\n",
    ")\n",
    "\n",
    "# For Question 3: Median of Training Accuracy\n",
    "median_training_accuracy = np.median(history.history['accuracy'])\n",
    "\n",
    "# For Question 4: Standard Deviation of Training Loss\n",
    "std_training_loss = np.std(history.history['loss'])\n"
   ]
  },
  {
   "cell_type": "code",
   "execution_count": 5,
   "id": "12cc3c1c",
   "metadata": {},
   "outputs": [
    {
     "name": "stdout",
     "output_type": "stream",
     "text": [
      "Found 3677 images belonging to 2 classes.\n"
     ]
    }
   ],
   "source": [
    "train_datagen_augmented = ImageDataGenerator(\n",
    "    rescale=1./255,\n",
    "    rotation_range=50,\n",
    "    width_shift_range=0.1,\n",
    "    height_shift_range=0.1,\n",
    "    zoom_range=0.1,\n",
    "    horizontal_flip=True,\n",
    "    fill_mode='nearest'\n",
    ")\n",
    "\n",
    "train_generator_augmented = train_datagen_augmented.flow_from_directory(\n",
    "    'D:/Machine Learning Zoomcamp/Week 8/train',  # Replace with your train directory path\n",
    "    target_size=(150, 150),\n",
    "    batch_size=20,\n",
    "    class_mode='binary')\n"
   ]
  },
  {
   "cell_type": "code",
   "execution_count": 6,
   "id": "97d1a4c6",
   "metadata": {},
   "outputs": [
    {
     "name": "stdout",
     "output_type": "stream",
     "text": [
      "Epoch 1/10\n",
      "184/184 [==============================] - 37s 202ms/step - loss: 0.5007 - accuracy: 0.7745 - val_loss: 0.5221 - val_accuracy: 0.7603\n",
      "Epoch 2/10\n",
      "184/184 [==============================] - 37s 202ms/step - loss: 0.4971 - accuracy: 0.7675 - val_loss: 0.4860 - val_accuracy: 0.7669\n",
      "Epoch 3/10\n",
      "184/184 [==============================] - 37s 202ms/step - loss: 0.4835 - accuracy: 0.7702 - val_loss: 0.4856 - val_accuracy: 0.7614\n",
      "Epoch 4/10\n",
      "184/184 [==============================] - 37s 201ms/step - loss: 0.4795 - accuracy: 0.7794 - val_loss: 0.4701 - val_accuracy: 0.7712\n",
      "Epoch 5/10\n",
      "184/184 [==============================] - 38s 205ms/step - loss: 0.4677 - accuracy: 0.7816 - val_loss: 0.4687 - val_accuracy: 0.7778\n",
      "Epoch 6/10\n",
      "184/184 [==============================] - 37s 203ms/step - loss: 0.4652 - accuracy: 0.7835 - val_loss: 0.5216 - val_accuracy: 0.7691\n",
      "Epoch 7/10\n",
      "184/184 [==============================] - 38s 206ms/step - loss: 0.4553 - accuracy: 0.7900 - val_loss: 0.4784 - val_accuracy: 0.7712\n",
      "Epoch 8/10\n",
      "184/184 [==============================] - 37s 202ms/step - loss: 0.4642 - accuracy: 0.7822 - val_loss: 0.4954 - val_accuracy: 0.7745\n",
      "Epoch 9/10\n",
      "184/184 [==============================] - 37s 199ms/step - loss: 0.4647 - accuracy: 0.7838 - val_loss: 0.4594 - val_accuracy: 0.7821\n",
      "Epoch 10/10\n",
      "184/184 [==============================] - 38s 205ms/step - loss: 0.4543 - accuracy: 0.7914 - val_loss: 0.4522 - val_accuracy: 0.7974\n"
     ]
    }
   ],
   "source": [
    "augmented_history = model.fit(\n",
    "    train_generator_augmented,\n",
    "    epochs=10,  # Additional 10 epochs\n",
    "    validation_data=test_generator\n",
    ")\n",
    "\n",
    "# For Question 5: Mean of Test Loss with Augmentations\n",
    "mean_test_loss_augmented = np.mean(augmented_history.history['val_loss'])\n",
    "\n",
    "# For Question 6: Average Test Accuracy for the Last 5 Epochs\n",
    "avg_test_accuracy_last_5 = np.mean(augmented_history.history['val_accuracy'][-5:])\n"
   ]
  },
  {
   "cell_type": "code",
   "execution_count": 7,
   "id": "e269cd0d",
   "metadata": {},
   "outputs": [
    {
     "name": "stdout",
     "output_type": "stream",
     "text": [
      "Median Training Accuracy: 0.7741365134716034\n",
      "Standard Deviation of Training Loss: 0.0848856109028521\n",
      "Mean Test Loss with Augmentation: 0.483931565284729\n",
      "Average Test Accuracy for the Last 5 Epochs with Augmentation: 0.7788671016693115\n"
     ]
    }
   ],
   "source": [
    "# For Question 5: Mean of Test Loss with Augmentations\n",
    "mean_test_loss_augmented = np.mean(augmented_history.history['val_loss'])\n",
    "\n",
    "# For Question 6: Average Test Accuracy for the Last 5 Epochs\n",
    "avg_test_accuracy_last_5 = np.mean(augmented_history.history['val_accuracy'][-5:])\n",
    "\n",
    "\n",
    "# Print the median training accuracy\n",
    "median_training_accuracy = np.median(history.history['accuracy'])\n",
    "print(\"Median Training Accuracy:\", median_training_accuracy)\n",
    "\n",
    "# Print the standard deviation of training loss\n",
    "std_training_loss = np.std(history.history['loss'])\n",
    "print(\"Standard Deviation of Training Loss:\", std_training_loss)\n",
    "\n",
    "# Assuming 'augmented_history' is from the continued training with data augmentation\n",
    "# Print the mean of test loss with augmentations\n",
    "mean_test_loss_augmented = np.mean(augmented_history.history['val_loss'])\n",
    "print(\"Mean Test Loss with Augmentation:\", mean_test_loss_augmented)\n",
    "\n",
    "# Print the average test accuracy for the last 5 epochs with augmentations\n",
    "avg_test_accuracy_last_5 = np.mean(augmented_history.history['val_accuracy'][-5:])\n",
    "print(\"Average Test Accuracy for the Last 5 Epochs with Augmentation:\", avg_test_accuracy_last_5)"
   ]
  },
  {
   "cell_type": "code",
   "execution_count": null,
   "id": "e6330de7",
   "metadata": {},
   "outputs": [],
   "source": []
  }
 ],
 "metadata": {
  "kernelspec": {
   "display_name": "Python 3 (ipykernel)",
   "language": "python",
   "name": "python3"
  },
  "language_info": {
   "codemirror_mode": {
    "name": "ipython",
    "version": 3
   },
   "file_extension": ".py",
   "mimetype": "text/x-python",
   "name": "python",
   "nbconvert_exporter": "python",
   "pygments_lexer": "ipython3",
   "version": "3.11.4"
  }
 },
 "nbformat": 4,
 "nbformat_minor": 5
}
